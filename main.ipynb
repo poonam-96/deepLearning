{
 "cells": [
  {
   "cell_type": "code",
   "execution_count": 8,
   "metadata": {},
   "outputs": [
    {
     "name": "stdout",
     "output_type": "stream",
     "text": [
      "120 red\n",
      "20.0 green\n"
     ]
    }
   ],
   "source": [
    "####\n",
    "from square import Square as sq\n",
    "from traingle import Triangle as tq\n",
    "\n",
    "s1 = sq()\n",
    "s1.set_val(8,15)\n",
    "s1.set_color(\"red\")\n",
    "t1 = tq()\n",
    "t1.set_val(8,5)\n",
    "t1.set_color(\"green\")\n",
    "print(s1.area(), s1.get_color())\n",
    "print(t1.area(), t1.get_color())"
   ]
  },
  {
   "cell_type": "code",
   "execution_count": null,
   "metadata": {},
   "outputs": [],
   "source": []
  }
 ],
 "metadata": {
  "kernelspec": {
   "display_name": "test-env",
   "language": "python",
   "name": "test-env"
  },
  "language_info": {
   "codemirror_mode": {
    "name": "ipython",
    "version": 3
   },
   "file_extension": ".py",
   "mimetype": "text/x-python",
   "name": "python",
   "nbconvert_exporter": "python",
   "pygments_lexer": "ipython3",
   "version": "3.6.9"
  }
 },
 "nbformat": 4,
 "nbformat_minor": 2
}
