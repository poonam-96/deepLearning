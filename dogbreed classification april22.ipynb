{
 "cells": [
  {
   "cell_type": "code",
   "execution_count": 33,
   "metadata": {
    "scrolled": true
   },
   "outputs": [],
   "source": [
    "import numpy as np #to import the lib\n",
    "import matplotlib.pyplot as plt\n",
    "import pandas as pd\n",
    "import cv2\n",
    "import os\n",
    "from tqdm import tqdm\n",
    "import tensorflow as tf\n"
   ]
  },
  {
   "cell_type": "code",
   "execution_count": 34,
   "metadata": {},
   "outputs": [],
   "source": [
    "from keras.applications.inception_v3 import InceptionV3\n",
    "from keras.preprocessing import image\n",
    "from keras.models import Model\n",
    "from keras.layers import Dense, GlobalAveragePooling2D\n",
    "from keras import backend as K\n",
    "from tensorflow.keras.datasets import cifar10\n",
    "from tensorflow.keras.preprocessing.image import ImageDataGenerator\n",
    "from tensorflow.keras.models import Sequential\n",
    "from tensorflow.keras.layers import Dense, Dropout, Activation, Flatten\n",
    "from tensorflow.keras.layers import Conv2D, MaxPooling2D"
   ]
  },
  {
   "cell_type": "code",
   "execution_count": 35,
   "metadata": {},
   "outputs": [],
   "source": [
    "files = os.listdir('dog_breed/train/')\n"
   ]
  },
  {
   "cell_type": "code",
   "execution_count": 36,
   "metadata": {},
   "outputs": [],
   "source": [
    "labels = pd.read_csv('dog_breed/labels.csv')"
   ]
  },
  {
   "cell_type": "code",
   "execution_count": 37,
   "metadata": {},
   "outputs": [],
   "source": [
    "# a = pd.read_csv('dog_breed/sample_submission.csv')\n",
    "# a"
   ]
  },
  {
   "cell_type": "code",
   "execution_count": 38,
   "metadata": {},
   "outputs": [],
   "source": [
    "dogs = labels.breed.tolist()"
   ]
  },
  {
   "cell_type": "code",
   "execution_count": 39,
   "metadata": {},
   "outputs": [],
   "source": [
    "ids = labels.id.tolist()\n"
   ]
  },
  {
   "cell_type": "code",
   "execution_count": 40,
   "metadata": {},
   "outputs": [
    {
     "name": "stderr",
     "output_type": "stream",
     "text": [
      "100%|██████████| 10222/10222 [00:00<00:00, 863876.19it/s]\n"
     ]
    }
   ],
   "source": [
    "file_path = []\n",
    "for id in tqdm(ids):\n",
    "    file_path.append('dog_breed/train/'+id+'.jpg')"
   ]
  },
  {
   "cell_type": "code",
   "execution_count": 41,
   "metadata": {},
   "outputs": [],
   "source": [
    "breeds=labels.breed.value_counts().keys()\n"
   ]
  },
  {
   "cell_type": "code",
   "execution_count": 42,
   "metadata": {},
   "outputs": [],
   "source": [
    "y = []\n",
    "def choose(br):\n",
    "    for i, dog in enumerate(breeds):\n",
    "        if br==dog:\n",
    "            return i"
   ]
  },
  {
   "cell_type": "code",
   "execution_count": 43,
   "metadata": {},
   "outputs": [],
   "source": [
    "for item in dogs:\n",
    "    y.append(choose(item))"
   ]
  },
  {
   "cell_type": "code",
   "execution_count": 44,
   "metadata": {},
   "outputs": [
    {
     "data": {
      "text/plain": [
       "(10222, 120, 10222)"
      ]
     },
     "execution_count": 44,
     "metadata": {},
     "output_type": "execute_result"
    }
   ],
   "source": [
    "len(y) , len(breeds) , len(dogs)"
   ]
  },
  {
   "cell_type": "code",
   "execution_count": 45,
   "metadata": {},
   "outputs": [],
   "source": [
    "base_model = InceptionV3(weights='imagenet', include_top=False)"
   ]
  },
  {
   "cell_type": "code",
   "execution_count": 46,
   "metadata": {},
   "outputs": [],
   "source": [
    "x = base_model.output\n",
    "x = GlobalAveragePooling2D()(x)\n",
    "model = Model(inputs=base_model.input, outputs=x)\n"
   ]
  },
  {
   "cell_type": "code",
   "execution_count": 47,
   "metadata": {},
   "outputs": [
    {
     "name": "stdout",
     "output_type": "stream",
     "text": [
      "0\n",
      "100\n",
      "200\n",
      "300\n",
      "400\n",
      "500\n",
      "600\n",
      "700\n",
      "800\n",
      "900\n",
      "1000\n",
      "1100\n",
      "1200\n",
      "1300\n",
      "1400\n",
      "1500\n",
      "1600\n",
      "1700\n",
      "1800\n",
      "1900\n",
      "2000\n",
      "2100\n",
      "2200\n",
      "2300\n",
      "2400\n",
      "2500\n",
      "2600\n",
      "2700\n",
      "2800\n",
      "2900\n",
      "3000\n",
      "3100\n",
      "3200\n",
      "3300\n",
      "3400\n",
      "3500\n",
      "3600\n",
      "3700\n",
      "3800\n",
      "3900\n",
      "4000\n",
      "4100\n",
      "4200\n",
      "4300\n",
      "4400\n",
      "4500\n",
      "4600\n",
      "4700\n",
      "4800\n",
      "4900\n",
      "5000\n",
      "5100\n",
      "5200\n",
      "5300\n",
      "5400\n",
      "5500\n",
      "5600\n",
      "5700\n",
      "5800\n",
      "5900\n",
      "6000\n",
      "6100\n",
      "6200\n",
      "6300\n",
      "6400\n",
      "6500\n",
      "6600\n",
      "6700\n",
      "6800\n",
      "6900\n",
      "7000\n",
      "7100\n",
      "7200\n",
      "7300\n",
      "7400\n",
      "7500\n",
      "7600\n",
      "7700\n",
      "7800\n",
      "7900\n",
      "8000\n",
      "8100\n",
      "8200\n",
      "8300\n",
      "8400\n",
      "8500\n",
      "8600\n",
      "8700\n",
      "8800\n",
      "8900\n",
      "9000\n",
      "9100\n",
      "9200\n",
      "9300\n",
      "9400\n",
      "9500\n",
      "9600\n",
      "9700\n",
      "9800\n",
      "9900\n",
      "10000\n",
      "10100\n",
      "10200\n"
     ]
    }
   ],
   "source": [
    "#no need to load this, because we are getting a features.npy file saved in our folder\n",
    "features = []\n",
    "for i, im_path in enumerate(file_path):\n",
    "    img = cv2.imread(im_path)\n",
    "    img = cv2.cvtColor(img, cv2.COLOR_BGR2RGB)\n",
    "    img = cv2.resize(img, (299,299)) \n",
    "    img = img/255.0\n",
    "    img = img.reshape(1,299, 299, 3)\n",
    "    out = model.predict(img)\n",
    "    features.append(out)\n",
    "    if i%100==0:\n",
    "        print(i)\n",
    "        \n",
    "features = np.squeeze(features)\n",
    "\n",
    "np.save('dog_breed/db_features.npy', features)"
   ]
  },
  {
   "cell_type": "code",
   "execution_count": 48,
   "metadata": {},
   "outputs": [],
   "source": [
    "trainfeatures = np.load('dog_breed/db_features.npy')"
   ]
  },
  {
   "cell_type": "code",
   "execution_count": 49,
   "metadata": {},
   "outputs": [],
   "source": [
    "from keras.models import Model"
   ]
  },
  {
   "cell_type": "code",
   "execution_count": 50,
   "metadata": {},
   "outputs": [],
   "source": [
    "model = Sequential()\n",
    "model.add(Dense(512, activation='relu', input_shape=(2048,)))\n",
    "model.add(Dropout(0.2))\n",
    "model.add(Dense(512, activation='relu'))\n",
    "model.add(Dropout(0.2))\n",
    "model.add(Dense(120, activation='softmax'))\n",
    "\n",
    "# model.summary()\n",
    "\n",
    "model.compile(loss='sparse_categorical_crossentropy',\n",
    "              optimizer= 'adam',\n",
    "              metrics=['accuracy'])"
   ]
  },
  {
   "cell_type": "code",
   "execution_count": 51,
   "metadata": {},
   "outputs": [
    {
     "name": "stdout",
     "output_type": "stream",
     "text": [
      "Labels for training and testing data\n"
     ]
    },
    {
     "data": {
      "text/plain": [
       "(8177, 2045, (8177, 2048))"
      ]
     },
     "execution_count": 51,
     "metadata": {},
     "output_type": "execute_result"
    }
   ],
   "source": [
    "\n",
    "from sklearn.model_selection import train_test_split\n",
    "\n",
    "# Load dataset.\n",
    "\n",
    "X, y = trainfeatures , y\n",
    "\n",
    "# split data into training and test data.\n",
    "train_X, test_X, train_y, test_y = train_test_split(X, y, \n",
    "                                                    train_size=0.8,\n",
    "                                                    test_size=0.2,\n",
    "                                                    random_state=123)\n",
    "print(\"Labels for training and testing data\")\n",
    "len(train_y),len(test_y) , train_X.shape"
   ]
  },
  {
   "cell_type": "code",
   "execution_count": 52,
   "metadata": {},
   "outputs": [
    {
     "name": "stdout",
     "output_type": "stream",
     "text": [
      "Train on 8177 samples, validate on 2045 samples\n",
      "Epoch 1/10\n",
      "8177/8177 [==============================] - 9s 1ms/sample - loss: 1.8108 - accuracy: 0.6093 - val_loss: 0.5307 - val_accuracy: 0.8293\n",
      "Epoch 2/10\n",
      "8177/8177 [==============================] - 2s 223us/sample - loss: 0.4750 - accuracy: 0.8530 - val_loss: 0.4392 - val_accuracy: 0.8601\n",
      "Epoch 3/10\n",
      "8177/8177 [==============================] - 2s 220us/sample - loss: 0.3646 - accuracy: 0.8865 - val_loss: 0.4315 - val_accuracy: 0.8616\n",
      "Epoch 4/10\n",
      "8177/8177 [==============================] - 2s 207us/sample - loss: 0.3098 - accuracy: 0.9006 - val_loss: 0.4991 - val_accuracy: 0.8479\n",
      "Epoch 5/10\n",
      "8177/8177 [==============================] - 2s 227us/sample - loss: 0.2637 - accuracy: 0.9141 - val_loss: 0.4612 - val_accuracy: 0.8641\n",
      "Epoch 6/10\n",
      "8177/8177 [==============================] - 2s 260us/sample - loss: 0.2338 - accuracy: 0.9211 - val_loss: 0.4654 - val_accuracy: 0.8636\n",
      "Epoch 7/10\n",
      "8177/8177 [==============================] - 2s 223us/sample - loss: 0.1964 - accuracy: 0.9337 - val_loss: 0.4703 - val_accuracy: 0.8670\n",
      "Epoch 8/10\n",
      "8177/8177 [==============================] - 2s 301us/sample - loss: 0.1799 - accuracy: 0.9393 - val_loss: 0.4861 - val_accuracy: 0.8572\n",
      "Epoch 9/10\n",
      "8177/8177 [==============================] - 3s 324us/sample - loss: 0.1584 - accuracy: 0.9475 - val_loss: 0.5020 - val_accuracy: 0.8621\n",
      "Epoch 10/10\n",
      "8177/8177 [==============================] - 2s 289us/sample - loss: 0.1423 - accuracy: 0.9474 - val_loss: 0.5137 - val_accuracy: 0.8660\n"
     ]
    }
   ],
   "source": [
    "history = model.fit(train_X, np.array(train_y),validation_data=(test_X, np.array(test_y)),\n",
    "                    batch_size=128,\n",
    "                    epochs=10,\n",
    "                    verbose=1 )\n",
    "model.save('model1.h5')"
   ]
  },
  {
   "cell_type": "code",
   "execution_count": 53,
   "metadata": {},
   "outputs": [
    {
     "data": {
      "image/png": "[encoded data removed]",
      "text/plain": [
       "<Figure size 432x288 with 1 Axes>"
      ]
     },
     "metadata": {
      "needs_background": "light"
     },
     "output_type": "display_data"
    }
   ],
   "source": [
    "plt.plot(history.history['accuracy'])\n",
    "plt.show()"
   ]
  },
  {
   "cell_type": "code",
   "execution_count": 54,
   "metadata": {},
   "outputs": [
    {
     "data": {
      "image/png": "[encoded data removed]",
      "text/plain": [
       "<Figure size 432x288 with 1 Axes>"
      ]
     },
     "metadata": {
      "needs_background": "light"
     },
     "output_type": "display_data"
    }
   ],
   "source": [
    "plt.plot(history.history['val_accuracy'], label= 'val_accuracy')\n",
    "plt.plot(history.history['accuracy'], label= 'train accuracy')\n",
    "plt.plot(history.history['loss'], label='train loss')\n",
    "plt.plot(history.history['val_loss'], label= 'val loss')\n",
    "plt.xlabel('number of epochs')\n",
    "plt.ylabel('acc/loss')\n",
    "plt.show()\n"
   ]
  },
  {
   "cell_type": "code",
   "execution_count": 17,
   "metadata": {},
   "outputs": [],
   "source": []
  },
  {
   "cell_type": "code",
   "execution_count": null,
   "metadata": {},
   "outputs": [],
   "source": []
  }
 ],
 "metadata": {
  "kernelspec": {
   "display_name": "test-env",
   "language": "python",
   "name": "test-env"
  },
  "language_info": {
   "codemirror_mode": {
    "name": "ipython",
    "version": 3
   },
   "file_extension": ".py",
   "mimetype": "text/x-python",
   "name": "python",
   "nbconvert_exporter": "python",
   "pygments_lexer": "ipython3",
   "version": "3.6.9"
  }
 },
 "nbformat": 4,
 "nbformat_minor": 4
}
