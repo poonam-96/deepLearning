{
 "cells": [
  {
   "cell_type": "code",
   "execution_count": 1,
   "metadata": {},
   "outputs": [
    {
     "name": "stdout",
     "output_type": "stream",
     "text": [
      " name -  poonam\n",
      " age -  23\n"
     ]
    }
   ],
   "source": [
    "class Student:\n",
    "    def __init__(self):\n",
    "        self.name ='poonam'\n",
    "        self.age ='23'\n",
    "        self.color = 'blue'\n",
    "    def talk(self):\n",
    "        print(\" name - \", self.name)   #self is for memory location\n",
    "        print(\" age - \", self.age)\n",
    "s1 = Student()\n",
    "s1.name\n",
    "\n",
    "s1.talk()"
   ]
  },
  {
   "cell_type": "code",
   "execution_count": 6,
   "metadata": {},
   "outputs": [
    {
     "name": "stdout",
     "output_type": "stream",
     "text": [
      "name:poonam\n",
      "age:23\n",
      "color:pink\n",
      " name -  poonam\n",
      " age -  23\n"
     ]
    }
   ],
   "source": [
    "n = input(\"name:\")\n",
    "a = int(input(\"age:\"))\n",
    "c = input(\"color:\")\n",
    "class Class:\n",
    "    def __init__(self,b,m,c):\n",
    "        self.name =b\n",
    "        self.age =m\n",
    "        self.color=c\n",
    "    def display(self):\n",
    "        print(\" name - \", self.name)\n",
    "        print(\" age - \", self.age)\n",
    "st1 = Class(n,a,c)\n",
    "\n",
    "st1.display()"
   ]
  },
  {
   "cell_type": "code",
   "execution_count": 10,
   "metadata": {},
   "outputs": [
    {
     "name": "stdout",
     "output_type": "stream",
     "text": [
      " name -  poonam\n",
      " age -  23\n",
      " marks -  90\n"
     ]
    }
   ],
   "source": [
    "\n",
    "class Class:\n",
    "    def __init__(self,b,m,c):\n",
    "        self.name =b\n",
    "        self.age =m\n",
    "        self.marks=c\n",
    "    def display(self):\n",
    "        print(\" name - \", self.name)\n",
    "        print(\" age - \", self.age)\n",
    "        print(\" marks - \", self.marks)\n",
    "st1 = Class(\"poonam\",23,90)\n",
    "\n",
    "st1.display()"
   ]
  },
  {
   "cell_type": "code",
   "execution_count": 15,
   "metadata": {},
   "outputs": [
    {
     "name": "stdout",
     "output_type": "stream",
     "text": [
      " name -  poonam\n",
      " age -  23\n",
      " marks -  (90, 50, 90, 80, 90)\n"
     ]
    }
   ],
   "source": [
    "\n",
    "class Class:\n",
    "    def __init__(self,b,m,*c):\n",
    "        self.name =b\n",
    "        self.age =m\n",
    "        self.marks=c\n",
    "    def display(self):\n",
    "        print(\" name - \", self.name)\n",
    "        print(\" age - \", self.age)\n",
    "        print(\" marks - \", self.marks)\n",
    "st1 = Class(\"poonam\",23,90,50,90,80,90)\n",
    "\n",
    "st1.display()"
   ]
  },
  {
   "cell_type": "code",
   "execution_count": 16,
   "metadata": {},
   "outputs": [
    {
     "name": "stdout",
     "output_type": "stream",
     "text": [
      " name -  poonam\n",
      " age -  23\n",
      " marks -  {'eng': 100, 'science': 90}\n"
     ]
    }
   ],
   "source": [
    "class Class:\n",
    "    def __init__(self,b,m,**c):\n",
    "        self.name =b\n",
    "        self.age =m\n",
    "        self.marks=c\n",
    "    def display(self):\n",
    "        print(\" name - \", self.name)\n",
    "        print(\" age - \", self.age)\n",
    "        print(\" marks - \", self.marks)\n",
    "st1 = Class(\"poonam\",23,eng= 100, science= 90)\n",
    "st1.display()"
   ]
  },
  {
   "cell_type": "code",
   "execution_count": 13,
   "metadata": {},
   "outputs": [
    {
     "name": "stdout",
     "output_type": "stream",
     "text": [
      "10\n"
     ]
    },
    {
     "ename": "AttributeError",
     "evalue": "'Speed' object has no attribute '__new_speed'",
     "output_type": "error",
     "traceback": [
      "\u001b[0;31m---------------------------------------------------------------------------\u001b[0m",
      "\u001b[0;31mAttributeError\u001b[0m                            Traceback (most recent call last)",
      "\u001b[0;32m<ipython-input-13-bcf066fc152a>\u001b[0m in \u001b[0;36m<module>\u001b[0;34m\u001b[0m\n\u001b[1;32m      6\u001b[0m \u001b[0mprint\u001b[0m\u001b[0;34m(\u001b[0m\u001b[0ms\u001b[0m\u001b[0;34m.\u001b[0m\u001b[0mspeed\u001b[0m\u001b[0;34m)\u001b[0m\u001b[0;34m\u001b[0m\u001b[0;34m\u001b[0m\u001b[0m\n\u001b[1;32m      7\u001b[0m \u001b[0;31m# s.__new_speed=100    #by writting this we can moddify the __new_speed and print\u001b[0m\u001b[0;34m\u001b[0m\u001b[0;34m\u001b[0m\u001b[0;34m\u001b[0m\u001b[0m\n\u001b[0;32m----> 8\u001b[0;31m \u001b[0mprint\u001b[0m\u001b[0;34m(\u001b[0m\u001b[0ms\u001b[0m\u001b[0;34m.\u001b[0m\u001b[0m__new_speed\u001b[0m\u001b[0;34m)\u001b[0m   \u001b[0;31m#try to print but cannot be accesed without above line.\u001b[0m\u001b[0;34m\u001b[0m\u001b[0;34m\u001b[0m\u001b[0m\n\u001b[0m",
      "\u001b[0;31mAttributeError\u001b[0m: 'Speed' object has no attribute '__new_speed'"
     ]
    }
   ],
   "source": [
    "class Speed:\n",
    "    def __init__(self):\n",
    "        self.speed=10\n",
    "        self.__new_speed=80   #private bcz two dash are written.\n",
    "s= Speed()   \n",
    "print(s.speed)\n",
    "# s.__new_speed=100    #by writting this we can moddify the __new_speed and print\n",
    "print(s.__new_speed)   #try to print but cannot be accesed without above line."
   ]
  },
  {
   "cell_type": "code",
   "execution_count": null,
   "metadata": {},
   "outputs": [],
   "source": [
    "##get - acces the new speed.\n",
    "#set - change the value of the new_speed"
   ]
  },
  {
   "cell_type": "code",
   "execution_count": 17,
   "metadata": {},
   "outputs": [
    {
     "name": "stdout",
     "output_type": "stream",
     "text": [
      "10\n",
      "100\n"
     ]
    }
   ],
   "source": [
    "class Speed:\n",
    "    def __init__(self):\n",
    "        self.speed=10\n",
    "        self.__new_speed=80   #private bcz two dash are written.\n",
    "    def get_new_speed(self):    #to acess the private attribute.\n",
    "        return self.__new_speed\n",
    "    def set_new_speed(self, new_speed):\n",
    "        self.__new_speed = new_speed\n",
    "s= Speed()   \n",
    "print(s.speed)\n",
    "s.set_new_speed((100))\n",
    "print(s.get_new_speed())"
   ]
  },
  {
   "cell_type": "code",
   "execution_count": null,
   "metadata": {},
   "outputs": [],
   "source": [
    "## the underscores meaning  for attributes\n"
   ]
  },
  {
   "cell_type": "code",
   "execution_count": 20,
   "metadata": {},
   "outputs": [
    {
     "name": "stdout",
     "output_type": "stream",
     "text": [
      "10\n",
      "20\n"
     ]
    },
    {
     "ename": "AttributeError",
     "evalue": "'Example' object has no attribute '__z'",
     "output_type": "error",
     "traceback": [
      "\u001b[0;31m---------------------------------------------------------------------------\u001b[0m",
      "\u001b[0;31mAttributeError\u001b[0m                            Traceback (most recent call last)",
      "\u001b[0;32m<ipython-input-20-e59fe32afd26>\u001b[0m in \u001b[0;36m<module>\u001b[0;34m\u001b[0m\n\u001b[1;32m      7\u001b[0m \u001b[0mprint\u001b[0m\u001b[0;34m(\u001b[0m\u001b[0ms1\u001b[0m\u001b[0;34m.\u001b[0m\u001b[0mx\u001b[0m\u001b[0;34m)\u001b[0m\u001b[0;34m\u001b[0m\u001b[0;34m\u001b[0m\u001b[0m\n\u001b[1;32m      8\u001b[0m \u001b[0mprint\u001b[0m\u001b[0;34m(\u001b[0m\u001b[0ms1\u001b[0m\u001b[0;34m.\u001b[0m\u001b[0m_y\u001b[0m\u001b[0;34m)\u001b[0m\u001b[0;34m\u001b[0m\u001b[0;34m\u001b[0m\u001b[0m\n\u001b[0;32m----> 9\u001b[0;31m \u001b[0mprint\u001b[0m\u001b[0;34m(\u001b[0m\u001b[0ms1\u001b[0m\u001b[0;34m.\u001b[0m\u001b[0m__z\u001b[0m\u001b[0;34m)\u001b[0m\u001b[0;34m\u001b[0m\u001b[0;34m\u001b[0m\u001b[0m\n\u001b[0m",
      "\u001b[0;31mAttributeError\u001b[0m: 'Example' object has no attribute '__z'"
     ]
    }
   ],
   "source": [
    "class Example:\n",
    "    def __init__(self):\n",
    "        self.x = 10\n",
    "        self._y = 20\n",
    "        self.__z = 30\n",
    "s1 = Example()\n",
    "print(s1.x)   #can be accessed bcz public\n",
    "print(s1._y)# it had an singhe underscore which means it is parially private so can be accessed and prints th value\n",
    "print(s1.__z)  #cnnot be acsessed as it is private 2 underscore. so we use get as shown in the above example."
   ]
  },
  {
   "cell_type": "code",
   "execution_count": 24,
   "metadata": {},
   "outputs": [
    {
     "name": "stdout",
     "output_type": "stream",
     "text": [
      "10\n",
      "20\n",
      "30\n",
      "None\n"
     ]
    },
    {
     "ename": "AttributeError",
     "evalue": "'Example' object has no attribute '__private_method'",
     "output_type": "error",
     "traceback": [
      "\u001b[0;31m---------------------------------------------------------------------------\u001b[0m",
      "\u001b[0;31mAttributeError\u001b[0m                            Traceback (most recent call last)",
      "\u001b[0;32m<ipython-input-24-c532dc463a75>\u001b[0m in \u001b[0;36m<module>\u001b[0;34m\u001b[0m\n\u001b[1;32m     13\u001b[0m \u001b[0ms1\u001b[0m \u001b[0;34m=\u001b[0m \u001b[0mExample\u001b[0m\u001b[0;34m(\u001b[0m\u001b[0;34m)\u001b[0m\u001b[0;34m\u001b[0m\u001b[0;34m\u001b[0m\u001b[0m\n\u001b[1;32m     14\u001b[0m \u001b[0mprint\u001b[0m\u001b[0;34m(\u001b[0m\u001b[0ms1\u001b[0m\u001b[0;34m.\u001b[0m\u001b[0mpublic_method\u001b[0m\u001b[0;34m(\u001b[0m\u001b[0;34m)\u001b[0m\u001b[0;34m)\u001b[0m\u001b[0;34m\u001b[0m\u001b[0;34m\u001b[0m\u001b[0m\n\u001b[0;32m---> 15\u001b[0;31m \u001b[0mprint\u001b[0m\u001b[0;34m(\u001b[0m\u001b[0ms1\u001b[0m\u001b[0;34m.\u001b[0m\u001b[0m__private_method\u001b[0m\u001b[0;34m(\u001b[0m\u001b[0;34m)\u001b[0m\u001b[0;34m)\u001b[0m    \u001b[0;31m#cannot be access the private method.\u001b[0m\u001b[0;34m\u001b[0m\u001b[0;34m\u001b[0m\u001b[0m\n\u001b[0m",
      "\u001b[0;31mAttributeError\u001b[0m: 'Example' object has no attribute '__private_method'"
     ]
    }
   ],
   "source": [
    "# private for methods i,e. double underscore for methods.\n",
    "class Example:\n",
    "    def __init__(self):\n",
    "        self.x = 10\n",
    "        self._y = 20\n",
    "        self.__z = 30\n",
    "    def public_method(self):\n",
    "        print(self.x)\n",
    "        print(self._y)\n",
    "        print(self.__z)\n",
    "    def __private_mthod(self):\n",
    "        print(\"hi! private\")\n",
    "s1 = Example()\n",
    "print(s1.public_method())\n",
    "print(s1.__private_method())    #cannot be access the private method."
   ]
  },
  {
   "cell_type": "code",
   "execution_count": 30,
   "metadata": {},
   "outputs": [
    {
     "name": "stdout",
     "output_type": "stream",
     "text": [
      "10\n",
      "20\n",
      "30\n",
      "hi! private\n"
     ]
    }
   ],
   "source": [
    "class Example:\n",
    "    def __init__(self):\n",
    "        self.x = 10\n",
    "        self._y = 20\n",
    "        self.__z = 30\n",
    "    def public_method(self):\n",
    "        print(self.x)\n",
    "        print(self._y)\n",
    "        print(self.__z)\n",
    "        self.__private_method()   #define the private method inside the class and hence it can be accessed.\n",
    "        \n",
    "    def __private_method(self):\n",
    "        print(\"hi! private\")\n",
    "s = Example()\n",
    "s.public_method()\n",
    "# print(s1.__private_method()) "
   ]
  },
  {
   "cell_type": "code",
   "execution_count": null,
   "metadata": {},
   "outputs": [],
   "source": [
    "##inheritance\n",
    "#ex as polygon\n"
   ]
  },
  {
   "cell_type": "code",
   "execution_count": 34,
   "metadata": {},
   "outputs": [
    {
     "name": "stdout",
     "output_type": "stream",
     "text": [
      "120\n",
      "20.0\n"
     ]
    }
   ],
   "source": [
    "class Polygon:    #parent/base class\n",
    "    __width= None     #bcz width and height are private so we cannot access it and we use get and set.\n",
    "    __height= None\n",
    "    \n",
    "    def set_val(self, width,height):\n",
    "        self.__width = width\n",
    "        self.__height = height\n",
    "    def get_width(self):         #bcz we can return only one value at a time, so we should wtite get for \n",
    "        return self.__width      #both height and width\n",
    "    def get_height(self):\n",
    "        return self.__height\n",
    "    \n",
    "       \n",
    "class Square(Polygon):#to inherit the attribute , the functions we need to write the parent class name into \n",
    "    def area(self):  # the child class\n",
    "        return self.get_width()*self.get_height()\n",
    "    \n",
    "\n",
    "\n",
    "# NOTE: as we know when an object is created init would be called directly, but here we are not calling polygon \n",
    "# directly, we are not creating an object for class Polygon so init would not be called.\n",
    "\n",
    "\n",
    "class Triangle(Polygon):\n",
    "    def area(self):\n",
    "        return self.get_height()*self.get_width()*1/2\n",
    "\n",
    "    \n",
    "\n"
   ]
  },
  {
   "cell_type": "code",
   "execution_count": 45,
   "metadata": {},
   "outputs": [
    {
     "name": "stdout",
     "output_type": "stream",
     "text": [
      "7\n"
     ]
    }
   ],
   "source": [
    "###HOW TO CREATE MODULE\n",
    "#module - it is file, here we are creating a file name mymath,py\n",
    "\n",
    "import mymath\n",
    "a= mymath.add(2,5)\n",
    "print(a)\n",
    "\n",
    "\n",
    "\n",
    "#if the file is in other directory we use\n",
    "from dir_name import mymath\n",
    "a= mymath.add(2,5)\n",
    "print(a)\n",
    "  \n",
    "    \n",
    "#0r\n",
    "\n",
    "import dir_name.mymath \n",
    "a= dir_name.mymath.add(2,5)\n",
    "print(a)\n",
    "\n",
    "\n",
    "#name the directory_name and the file name (mymath) you like. ex here i named it as myfunc\n",
    "\n",
    "import dir_name.mymath as myfunc\n",
    "a= myfunc.add(2,5)\n",
    "print(a)\n",
    "  \n",
    "\n"
   ]
  },
  {
   "cell_type": "code",
   "execution_count": 11,
   "metadata": {},
   "outputs": [
    {
     "name": "stdout",
     "output_type": "stream",
     "text": [
      "child__init__\n",
      "parent__init__ poonam\n"
     ]
    }
   ],
   "source": [
    "###super function\n",
    "\n",
    "\n",
    "class Parent:\n",
    "    def __init__(self , name):\n",
    "        print(\"parent__init__\", name)\n",
    "class Child(Parent):\n",
    "    def __init__(self):\n",
    "        print(\"child__init__\")\n",
    "        Parent.__init__(self, \"poonam\")  #without superclass - method 1\n",
    "cobj = Child()\n",
    "            "
   ]
  },
  {
   "cell_type": "code",
   "execution_count": 21,
   "metadata": {},
   "outputs": [
    {
     "name": "stdout",
     "output_type": "stream",
     "text": [
      "child__init__\n",
      "parent__init__ poonam\n",
      "parent__init__ aish\n",
      "(<class '__main__.Child'>, <class '__main__.Parent1'>, <class '__main__.Parent2'>, <class 'object'>)\n"
     ]
    }
   ],
   "source": [
    "#method -2 using super\n",
    "\n",
    "class Parent1:\n",
    "    def __init__(self , name):\n",
    "        print(\"parent__init__\", name)\n",
    "class Parent2:\n",
    "    def __init__(self , name):\n",
    "        print(\"parent__init__\", name)\n",
    "        \n",
    "        \n",
    "class Child(Parent1, Parent2):\n",
    "    def __init__(self):\n",
    "        print(\"child__init__\")\n",
    "        super().__init__(\"poonam\")  #using superclass - method 1\n",
    "        Parent2.__init__(self,\"aish\")\n",
    "cobj = Child()\n",
    "print(Child.__mro__)    # to check the order or sequence"
   ]
  },
  {
   "cell_type": "code",
   "execution_count": 24,
   "metadata": {},
   "outputs": [
    {
     "ename": "AttributeError",
     "evalue": "'Square' object has no attribute 'set_color'",
     "output_type": "error",
     "traceback": [
      "\u001b[0;31m---------------------------------------------------------------------------\u001b[0m",
      "\u001b[0;31mAttributeError\u001b[0m                            Traceback (most recent call last)",
      "\u001b[0;32m<ipython-input-24-097dae9e6dbd>\u001b[0m in \u001b[0;36m<module>\u001b[0;34m\u001b[0m\n\u001b[1;32m      5\u001b[0m \u001b[0ms1\u001b[0m \u001b[0;34m=\u001b[0m \u001b[0msq\u001b[0m\u001b[0;34m(\u001b[0m\u001b[0;34m)\u001b[0m\u001b[0;34m\u001b[0m\u001b[0;34m\u001b[0m\u001b[0m\n\u001b[1;32m      6\u001b[0m \u001b[0ms1\u001b[0m\u001b[0;34m.\u001b[0m\u001b[0mset_val\u001b[0m\u001b[0;34m(\u001b[0m\u001b[0;36m8\u001b[0m\u001b[0;34m,\u001b[0m\u001b[0;36m15\u001b[0m\u001b[0;34m)\u001b[0m\u001b[0;34m\u001b[0m\u001b[0;34m\u001b[0m\u001b[0m\n\u001b[0;32m----> 7\u001b[0;31m \u001b[0ms1\u001b[0m\u001b[0;34m.\u001b[0m\u001b[0mset_color\u001b[0m\u001b[0;34m(\u001b[0m\u001b[0;34m\"red\"\u001b[0m\u001b[0;34m)\u001b[0m\u001b[0;34m\u001b[0m\u001b[0;34m\u001b[0m\u001b[0m\n\u001b[0m\u001b[1;32m      8\u001b[0m \u001b[0mt1\u001b[0m \u001b[0;34m=\u001b[0m \u001b[0mtq\u001b[0m\u001b[0;34m(\u001b[0m\u001b[0;34m)\u001b[0m\u001b[0;34m\u001b[0m\u001b[0;34m\u001b[0m\u001b[0m\n\u001b[1;32m      9\u001b[0m \u001b[0mt1\u001b[0m\u001b[0;34m.\u001b[0m\u001b[0mset_val\u001b[0m\u001b[0;34m(\u001b[0m\u001b[0;36m8\u001b[0m\u001b[0;34m,\u001b[0m\u001b[0;36m5\u001b[0m\u001b[0;34m)\u001b[0m\u001b[0;34m\u001b[0m\u001b[0;34m\u001b[0m\u001b[0m\n",
      "\u001b[0;31mAttributeError\u001b[0m: 'Square' object has no attribute 'set_color'"
     ]
    }
   ],
   "source": [
    "####\n",
    "from square import Square as sq\n",
    "from traingle import Triangle as tq\n",
    "\n",
    "s1 = sq()\n",
    "s1.set_val(8,15)\n",
    "s1.set_color(\"red\")\n",
    "t1 = tq()\n",
    "t1.set_val(8,5)\n",
    "t1.set_color(\"green\")\n",
    "print(s1.area(), s1.get_color())\n",
    "print(t1.area(), t1.get_color())"
   ]
  },
  {
   "cell_type": "code",
   "execution_count": null,
   "metadata": {},
   "outputs": [],
   "source": []
  }
 ],
 "metadata": {
  "kernelspec": {
   "display_name": "test-env",
   "language": "python",
   "name": "test-env"
  },
  "language_info": {
   "codemirror_mode": {
    "name": "ipython",
    "version": 3
   },
   "file_extension": ".py",
   "mimetype": "text/x-python",
   "name": "python",
   "nbconvert_exporter": "python",
   "pygments_lexer": "ipython3",
   "version": "3.6.9"
  }
 },
 "nbformat": 4,
 "nbformat_minor": 2
}
