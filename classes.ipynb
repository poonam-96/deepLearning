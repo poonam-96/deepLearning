{
 "cells": [
  {
   "cell_type": "code",
   "execution_count": 62,
   "metadata": {},
   "outputs": [],
   "source": [
    "from functools import total_ordering\n",
    "@total_ordering\n",
    "\n",
    "\n",
    "class Customer:\n",
    "    customer_id=0\n",
    "    def __init__(self,name:str, car:str) ->None:\n",
    "        self.name= name\n",
    "        self.car = car\n",
    "        Customer.customer_id += 1\n",
    "        self.id = Customer.customer_id\n",
    "        self._payment= []\n",
    "    def display(self):\n",
    "        print(\"name : %s\\n id: %i\\ncar: %s\" %(self.name,self.id, self.car))\n",
    "    def update_car(self, car:str) ->None:\n",
    "        self.car = car\n",
    "    def __repr__(self):\n",
    "        print(\"name : %s\\n id: %i\\ncar: %s\" %(self.name,self.id, self.car))\n",
    "    def add_payment(self, amount):\n",
    "        if not isinstance(amount, int):\n",
    "            return ValueError(\"the amount is not an integer\")\n",
    "        self._payment.append(amount)\n",
    "    def __len__(self):\n",
    "        return len(self._payment)\n",
    "    def __eq__(self,others):\n",
    "        return sum(self._payment)==sum(others._payment)\n",
    "    def __lt__(self,others):\n",
    "        return sum(self._payment)<sum(others._payment)\n",
    "    \n",
    "        "
   ]
  },
  {
   "cell_type": "code",
   "execution_count": 63,
   "metadata": {},
   "outputs": [
    {
     "name": "stdout",
     "output_type": "stream",
     "text": [
      "name : abc\n",
      " id: 1\n",
      "car: audi\n"
     ]
    }
   ],
   "source": [
    "cus1 = Customer('abc', 'audi')\n",
    "cus1.display()"
   ]
  },
  {
   "cell_type": "code",
   "execution_count": 64,
   "metadata": {},
   "outputs": [
    {
     "name": "stdout",
     "output_type": "stream",
     "text": [
      "name : abc\n",
      " id: 1\n",
      "car: audi 4\n"
     ]
    }
   ],
   "source": [
    "cus1.update_car('audi 4')\n",
    "cus1.display()"
   ]
  },
  {
   "cell_type": "code",
   "execution_count": 65,
   "metadata": {},
   "outputs": [
    {
     "name": "stdout",
     "output_type": "stream",
     "text": [
      "custmer count: 1\n"
     ]
    }
   ],
   "source": [
    "print(\"custmer count:\", Customer.customer_id)"
   ]
  },
  {
   "cell_type": "code",
   "execution_count": 66,
   "metadata": {},
   "outputs": [
    {
     "name": "stdout",
     "output_type": "stream",
     "text": [
      "name : cbd\n",
      " id: 2\n",
      "car: audi\n"
     ]
    }
   ],
   "source": [
    "cus2 = Customer('cbd', 'audi')\n",
    "cus2.display()"
   ]
  },
  {
   "cell_type": "code",
   "execution_count": 67,
   "metadata": {},
   "outputs": [
    {
     "name": "stdout",
     "output_type": "stream",
     "text": [
      "custmer count: 2\n"
     ]
    }
   ],
   "source": [
    "print(\"custmer count:\", Customer.customer_id)"
   ]
  },
  {
   "cell_type": "code",
   "execution_count": 68,
   "metadata": {},
   "outputs": [
    {
     "name": "stdout",
     "output_type": "stream",
     "text": [
      "name : abc\n",
      " id: 1\n",
      "car: audi 4\n"
     ]
    },
    {
     "ename": "TypeError",
     "evalue": "__str__ returned non-string (type NoneType)",
     "output_type": "error",
     "traceback": [
      "\u001b[0;31m---------------------------------------------------------------------------\u001b[0m",
      "\u001b[0;31mTypeError\u001b[0m                                 Traceback (most recent call last)",
      "\u001b[0;32m<ipython-input-68-0bb674975d0f>\u001b[0m in \u001b[0;36m<module>\u001b[0;34m\u001b[0m\n\u001b[0;32m----> 1\u001b[0;31m \u001b[0mprint\u001b[0m\u001b[0;34m(\u001b[0m\u001b[0mcus1\u001b[0m\u001b[0;34m)\u001b[0m\u001b[0;34m\u001b[0m\u001b[0;34m\u001b[0m\u001b[0m\n\u001b[0m",
      "\u001b[0;31mTypeError\u001b[0m: __str__ returned non-string (type NoneType)"
     ]
    }
   ],
   "source": [
    "print(cus1)"
   ]
  },
  {
   "cell_type": "code",
   "execution_count": 69,
   "metadata": {},
   "outputs": [],
   "source": [
    "cus1.add_payment(10)\n",
    "cus1.add_payment(20)\n",
    "cus1.add_payment(30)\n",
    "cus1.add_payment(10)"
   ]
  },
  {
   "cell_type": "code",
   "execution_count": 70,
   "metadata": {},
   "outputs": [
    {
     "data": {
      "text/plain": [
       "4"
      ]
     },
     "execution_count": 70,
     "metadata": {},
     "output_type": "execute_result"
    }
   ],
   "source": [
    "len(cus1)"
   ]
  },
  {
   "cell_type": "code",
   "execution_count": 71,
   "metadata": {},
   "outputs": [],
   "source": [
    "cus2.add_payment(10)\n",
    "cus2.add_payment(5)\n",
    "cus2.add_payment(50)"
   ]
  },
  {
   "cell_type": "code",
   "execution_count": 72,
   "metadata": {},
   "outputs": [
    {
     "data": {
      "text/plain": [
       "3"
      ]
     },
     "execution_count": 72,
     "metadata": {},
     "output_type": "execute_result"
    }
   ],
   "source": [
    "len(cus2)"
   ]
  },
  {
   "cell_type": "code",
   "execution_count": 73,
   "metadata": {},
   "outputs": [
    {
     "data": {
      "text/plain": [
       "True"
      ]
     },
     "execution_count": 73,
     "metadata": {},
     "output_type": "execute_result"
    }
   ],
   "source": [
    "cus1 > cus2"
   ]
  },
  {
   "cell_type": "code",
   "execution_count": null,
   "metadata": {},
   "outputs": [],
   "source": []
  },
  {
   "cell_type": "code",
   "execution_count": null,
   "metadata": {},
   "outputs": [],
   "source": []
  },
  {
   "cell_type": "code",
   "execution_count": null,
   "metadata": {},
   "outputs": [],
   "source": []
  }
 ],
 "metadata": {
  "kernelspec": {
   "display_name": "test-env",
   "language": "python",
   "name": "test-env"
  },
  "language_info": {
   "codemirror_mode": {
    "name": "ipython",
    "version": 3
   },
   "file_extension": ".py",
   "mimetype": "text/x-python",
   "name": "python",
   "nbconvert_exporter": "python",
   "pygments_lexer": "ipython3",
   "version": "3.6.9"
  }
 },
 "nbformat": 4,
 "nbformat_minor": 2
}
