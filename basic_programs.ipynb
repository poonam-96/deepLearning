{
 "cells": [
  {
   "cell_type": "code",
   "execution_count": 7,
   "metadata": {},
   "outputs": [],
   "source": [
    "# 1)Write a Python program to check if a number is a perfect square.\n",
    "# Input : 9\n",
    "# Output : True\n",
    "\n",
    "import math  \n"
   ]
  },
  {
   "cell_type": "code",
   "execution_count": 8,
   "metadata": {},
   "outputs": [
    {
     "name": "stdout",
     "output_type": "stream",
     "text": [
      "4 is a perfect square\n"
     ]
    }
   ],
   "source": [
    "a = 4\n",
    "if a%math.sqrt(a)==0:\n",
    "    print(\"%s is a perfect square\" %a)\n",
    "else:\n",
    "    print(\"not a sqrt\")\n",
    "print()\n"
   ]
  },
  {
   "cell_type": "code",
   "execution_count": 9,
   "metadata": {},
   "outputs": [],
   "source": [
    "# 2)Write a Python program to find missing numbers from a list.\n",
    "# Input : [1,2,3,4,6,7,10]\n",
    "# Output : [5, 8, 9]"
   ]
  },
  {
   "cell_type": "code",
   "execution_count": 10,
   "metadata": {},
   "outputs": [
    {
     "name": "stdout",
     "output_type": "stream",
     "text": [
      "2\n",
      "4\n",
      "6\n",
      "None\n"
     ]
    }
   ],
   "source": [
    "\n",
    "def missing(a):\n",
    "    for i in range(a[0], a[-1]+1):\n",
    "        if i not in a:\n",
    "            print(i)\n",
    "        \n",
    "        \n",
    "a = [1,3,5,7]\n",
    "print(missing(a))\n"
   ]
  },
  {
   "cell_type": "code",
   "execution_count": 11,
   "metadata": {},
   "outputs": [
    {
     "name": "stdout",
     "output_type": "stream",
     "text": [
      "0 1 2 3 4 5 6 \n"
     ]
    }
   ],
   "source": [
    "l = [10, 20, 30, 40,6,8,9] \n",
    "for i in range(len(l)): \n",
    "    print(i, end =\" \") \n",
    "print() \n",
    "  "
   ]
  },
  {
   "cell_type": "code",
   "execution_count": 14,
   "metadata": {},
   "outputs": [
    {
     "name": "stdout",
     "output_type": "stream",
     "text": [
      "0 1 2 3 4 5 6 7 8 9 \n",
      "10 20 30 40 \n",
      "Sum of first 10 natural number : 55\n"
     ]
    }
   ],
   "source": [
    "\n",
    "# Python Program to  \n",
    "# show range() basics \n",
    "  \n",
    "# printing a number \n",
    "for i in range(10): \n",
    "    print(i, end =\" \") \n",
    "print() \n",
    "  \n",
    "# using range for iteration \n",
    "l = [10, 20, 30, 40] \n",
    "for i in range(len(l)): \n",
    "    print(l[i], end =\" \") \n",
    "print() \n",
    "  \n",
    "# performing sum of natural \n",
    "# number \n",
    "sum = 0\n",
    "for i in range(1, 11): \n",
    "    sum = sum + i \n",
    "print(\"Sum of first 10 natural number :\", sum) \n"
   ]
  },
  {
   "cell_type": "code",
   "execution_count": 15,
   "metadata": {},
   "outputs": [],
   "source": [
    "\n",
    "# 3)Write a Python program to find the single number in a list that doesn't occur twice.\n",
    "# Input : [5, 3, 4, 3, 4]\n",
    "# Output : 5"
   ]
  },
  {
   "cell_type": "code",
   "execution_count": 18,
   "metadata": {},
   "outputs": [
    {
     "name": "stdout",
     "output_type": "stream",
     "text": [
      "4\n"
     ]
    }
   ],
   "source": [
    "\n",
    "def repeat(a):\n",
    "    x= 0\n",
    "    for i in a:\n",
    "        x=x^i\n",
    "        return x\n",
    "        \n",
    "        \n",
    "a = [4,3,3]\n",
    "print(repeat(a))"
   ]
  },
  {
   "cell_type": "code",
   "execution_count": 19,
   "metadata": {},
   "outputs": [
    {
     "name": "stdout",
     "output_type": "stream",
     "text": [
      "6\n"
     ]
    }
   ],
   "source": [
    "def single_number(arr):\n",
    "    result = 0\n",
    "    for i in arr:\n",
    "        result ^= i\n",
    "    return result\n",
    "\n",
    "arr = [3, 4, 3, 4,6]\n",
    "\n",
    "\n",
    "print(single_number(arr))"
   ]
  },
  {
   "cell_type": "code",
   "execution_count": null,
   "metadata": {},
   "outputs": [],
   "source": [
    "# 4)Write a Python program to add the digits of a positive integer repeatedly until the result has a single digit. \n",
    "# Input : 48\n",
    "# Output : 3"
   ]
  },
  {
   "cell_type": "code",
   "execution_count": 1,
   "metadata": {},
   "outputs": [
    {
     "name": "stdout",
     "output_type": "stream",
     "text": [
      "5\n",
      "4\n"
     ]
    }
   ],
   "source": [
    "def add_num(num):\n",
    "    if num > 0:\n",
    "        return (num-1)% 9 +1 \n",
    "    else:\n",
    "        return 0*x\n",
    "print(add_num(23))\n",
    "print(add_num(49))\n"
   ]
  },
  {
   "cell_type": "code",
   "execution_count": null,
   "metadata": {},
   "outputs": [],
   "source": []
  },
  {
   "cell_type": "code",
   "execution_count": null,
   "metadata": {},
   "outputs": [],
   "source": []
  },
  {
   "cell_type": "code",
   "execution_count": null,
   "metadata": {},
   "outputs": [],
   "source": []
  },
  {
   "cell_type": "code",
   "execution_count": null,
   "metadata": {},
   "outputs": [],
   "source": []
  },
  {
   "cell_type": "code",
   "execution_count": null,
   "metadata": {},
   "outputs": [],
   "source": []
  },
  {
   "cell_type": "code",
   "execution_count": null,
   "metadata": {},
   "outputs": [],
   "source": []
  },
  {
   "cell_type": "code",
   "execution_count": null,
   "metadata": {},
   "outputs": [],
   "source": []
  },
  {
   "cell_type": "code",
   "execution_count": null,
   "metadata": {},
   "outputs": [],
   "source": []
  }
 ],
 "metadata": {
  "kernelspec": {
   "display_name": "test-env",
   "language": "python",
   "name": "test-env"
  },
  "language_info": {
   "codemirror_mode": {
    "name": "ipython",
    "version": 3
   },
   "file_extension": ".py",
   "mimetype": "text/x-python",
   "name": "python",
   "nbconvert_exporter": "python",
   "pygments_lexer": "ipython3",
   "version": "3.6.9"
  }
 },
 "nbformat": 4,
 "nbformat_minor": 2
}
