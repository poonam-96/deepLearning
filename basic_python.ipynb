{
 "cells": [
  {
   "cell_type": "code",
   "execution_count": null,
   "metadata": {},
   "outputs": [],
   "source": [
    "import sys"
   ]
  },
  {
   "cell_type": "code",
   "execution_count": 2,
   "metadata": {},
   "outputs": [
    {
     "data": {
      "text/plain": [
       "'3.6.9 (default, Nov  7 2019, 10:44:02) \\n[GCC 8.3.0]'"
      ]
     },
     "execution_count": 2,
     "metadata": {},
     "output_type": "execute_result"
    }
   ],
   "source": [
    "sys.version"
   ]
  },
  {
   "cell_type": "code",
   "execution_count": null,
   "metadata": {},
   "outputs": [],
   "source": [
    "import pandas\n"
   ]
  },
  {
   "cell_type": "code",
   "execution_count": 6,
   "metadata": {},
   "outputs": [],
   "source": [
    "from time import gmtime as t_time\n",
    "# print(gmtime())"
   ]
  },
  {
   "cell_type": "code",
   "execution_count": 7,
   "metadata": {},
   "outputs": [
    {
     "name": "stdout",
     "output_type": "stream",
     "text": [
      "time.struct_time(tm_year=2020, tm_mon=5, tm_mday=19, tm_hour=7, tm_min=14, tm_sec=16, tm_wday=1, tm_yday=140, tm_isdst=0)\n"
     ]
    }
   ],
   "source": [
    "print(t_time())"
   ]
  },
  {
   "cell_type": "code",
   "execution_count": 10,
   "metadata": {},
   "outputs": [
    {
     "name": "stdout",
     "output_type": "stream",
     "text": [
      "32\n"
     ]
    }
   ],
   "source": [
    "two = t_time().tm_sec\n",
    "print(two)"
   ]
  },
  {
   "cell_type": "code",
   "execution_count": 13,
   "metadata": {},
   "outputs": [
    {
     "name": "stdout",
     "output_type": "stream",
     "text": [
      "the secons 32 \n"
     ]
    }
   ],
   "source": [
    "print(\"the secons %s \" %two)"
   ]
  },
  {
   "cell_type": "code",
   "execution_count": 21,
   "metadata": {},
   "outputs": [
    {
     "name": "stdout",
     "output_type": "stream",
     "text": [
      "3\n",
      "the string 44 is:\n",
      " 44 is divisible by 2\n",
      "complete iterration\n",
      "5\n",
      "the string 49 is:\n",
      "default\n",
      "complete iterration\n",
      "3\n",
      "the string 52 is:\n",
      " 52 is divisible by 2\n",
      "complete iterration\n",
      "2\n",
      "the string 54 is:\n",
      " 54 is divisible by 3\n"
     ]
    }
   ],
   "source": [
    "import random\n",
    "import time\n",
    "for i in range(5):\n",
    "    rand_num= random.randint(2,7)\n",
    "    print(rand_num)\n",
    "    time.sleep(rand_num)\n",
    "    second = t_time().tm_sec\n",
    "    print(\"the string %s is:\" %second)\n",
    "    if second%3 == 0 :\n",
    "        print(\" %s is divisible by 3\" %second)\n",
    "        break\n",
    "    elif second%2 == 0:\n",
    "        print(\" %s is divisible by 2\" %second)\n",
    "    else:\n",
    "        print(\"default\")\n",
    "    print(\"complete iterration\")"
   ]
  },
  {
   "cell_type": "code",
   "execution_count": 4,
   "metadata": {},
   "outputs": [
    {
     "data": {
      "text/plain": [
       "{'name': 'poonam', 'age': '23', 'nationlity': 'indian', 'car': 'audi a4'}"
      ]
     },
     "execution_count": 4,
     "metadata": {},
     "output_type": "execute_result"
    }
   ],
   "source": [
    "##dictionry\n",
    "c1 = {'name': 'poonam','age': '23', 'nationlity' : 'indian', 'car' : 'audi a4'}\n",
    "c1"
   ]
  },
  {
   "cell_type": "code",
   "execution_count": 30,
   "metadata": {},
   "outputs": [
    {
     "name": "stdout",
     "output_type": "stream",
     "text": [
      "enter a sentence : hello poonam\n"
     ]
    },
    {
     "data": {
      "text/plain": [
       "'hello poonam'"
      ]
     },
     "execution_count": 30,
     "metadata": {},
     "output_type": "execute_result"
    }
   ],
   "source": [
    "sentence = input('enter a sentence : ')\n",
    "sentence"
   ]
  },
  {
   "cell_type": "code",
   "execution_count": 31,
   "metadata": {},
   "outputs": [],
   "source": [
    "vow = ['u', 'e', 'i', 'o', 'a']\n",
    "vow_count = {}\n",
    "\n"
   ]
  },
  {
   "cell_type": "code",
   "execution_count": 32,
   "metadata": {},
   "outputs": [
    {
     "data": {
      "text/plain": [
       "{'u': 0, 'e': 0, 'i': 0, 'o': 0, 'a': 0}"
      ]
     },
     "execution_count": 32,
     "metadata": {},
     "output_type": "execute_result"
    }
   ],
   "source": [
    "vow_count['u'] = 0  #systamatically we are initializing the keys and values and it is not possible for thousand's.\n",
    "vow_count['e'] = 0          #dynamically it can be done by the following method:\n",
    "vow_count['i'] = 0\n",
    "vow_count['o'] = 0\n",
    "vow_count['a'] = 0\n",
    "vow_count"
   ]
  },
  {
   "cell_type": "code",
   "execution_count": 33,
   "metadata": {},
   "outputs": [],
   "source": [
    "for i in list(sentence):\n",
    "    if i in vow:\n",
    "        vow_count[i] += 1\n"
   ]
  },
  {
   "cell_type": "code",
   "execution_count": 34,
   "metadata": {},
   "outputs": [
    {
     "data": {
      "text/plain": [
       "{'u': 0, 'e': 1, 'i': 0, 'o': 3, 'a': 1}"
      ]
     },
     "execution_count": 34,
     "metadata": {},
     "output_type": "execute_result"
    }
   ],
   "source": [
    "vow_count"
   ]
  },
  {
   "cell_type": "code",
   "execution_count": 35,
   "metadata": {},
   "outputs": [
    {
     "name": "stdout",
     "output_type": "stream",
     "text": [
      "the frequency of a : 1  \n",
      "the frequency of e : 1  \n",
      "the frequency of i : 0  \n",
      "the frequency of o : 3  \n",
      "the frequency of u : 0  \n"
     ]
    }
   ],
   "source": [
    "for k,v in sorted(vow_count.items()):\n",
    "    print('the frequency of %s : %i  ' %(k,v))"
   ]
  },
  {
   "cell_type": "code",
   "execution_count": 36,
   "metadata": {},
   "outputs": [
    {
     "name": "stdout",
     "output_type": "stream",
     "text": [
      "Once deleted, variables cannot be recovered. Proceed (y/[n])? y\n"
     ]
    }
   ],
   "source": [
    "%reset   ##to rest the initializaion."
   ]
  },
  {
   "cell_type": "code",
   "execution_count": 44,
   "metadata": {},
   "outputs": [
    {
     "name": "stdout",
     "output_type": "stream",
     "text": [
      "enter a sentence : hello poonam how are you\n"
     ]
    },
    {
     "data": {
      "text/plain": [
       "'hello poonam how are you'"
      ]
     },
     "execution_count": 44,
     "metadata": {},
     "output_type": "execute_result"
    }
   ],
   "source": [
    "###to dinamically initiize the dictionarry\n",
    "sentence = input('enter a sentence : ')\n",
    "sentence\n"
   ]
  },
  {
   "cell_type": "code",
   "execution_count": 45,
   "metadata": {},
   "outputs": [],
   "source": [
    "vow = ['u', 'e', 'i', 'o', 'a']\n",
    "vow_count = {}\n"
   ]
  },
  {
   "cell_type": "code",
   "execution_count": 46,
   "metadata": {},
   "outputs": [],
   "source": [
    "for i in list(sentence):\n",
    "    if i in vow:\n",
    "        vow_count.setdefault(i,0)\n",
    "        vow_count[i] += 1"
   ]
  },
  {
   "cell_type": "code",
   "execution_count": 47,
   "metadata": {},
   "outputs": [
    {
     "data": {
      "text/plain": [
       "{'e': 2, 'o': 5, 'a': 2, 'u': 1}"
      ]
     },
     "execution_count": 47,
     "metadata": {},
     "output_type": "execute_result"
    }
   ],
   "source": [
    "vow_count"
   ]
  },
  {
   "cell_type": "code",
   "execution_count": 117,
   "metadata": {},
   "outputs": [
    {
     "data": {
      "text/plain": [
       "{'a': {'name': 'poonam',\n",
       "  'age': '23',\n",
       "  'nationlity': 'indian',\n",
       "  'car': 'audi a4'},\n",
       " 'b': {'name': 'anna', 'age': '24', 'nationlity': 'us', 'car': 'audi '}}"
      ]
     },
     "execution_count": 117,
     "metadata": {},
     "output_type": "execute_result"
    }
   ],
   "source": [
    "customer = {}\n",
    "customer['a'] = {'name': 'poonam','age': '23', 'nationlity' : 'indian', 'car' : 'audi a4'}\n",
    "customer['b'] = {'name': 'anna','age': '24', 'nationlity' : 'us', 'car' : 'audi '}\n",
    "customer"
   ]
  },
  {
   "cell_type": "code",
   "execution_count": 118,
   "metadata": {},
   "outputs": [
    {
     "name": "stdout",
     "output_type": "stream",
     "text": [
      "{'a': {'age': '23', 'car': 'audi a4', 'name': 'poonam', 'nationlity': 'indian'},\n",
      " 'b': {'age': '24', 'car': 'audi ', 'name': 'anna', 'nationlity': 'us'}}\n"
     ]
    }
   ],
   "source": [
    "####\n",
    "import pprint\n",
    "pprint.pprint(customer)"
   ]
  },
  {
   "cell_type": "code",
   "execution_count": 52,
   "metadata": {},
   "outputs": [],
   "source": [
    "customer['a']['car'] = ['audi a4' , 'xmen']"
   ]
  },
  {
   "cell_type": "code",
   "execution_count": 54,
   "metadata": {},
   "outputs": [
    {
     "data": {
      "text/plain": [
       "'xmen'"
      ]
     },
     "execution_count": 54,
     "metadata": {},
     "output_type": "execute_result"
    }
   ],
   "source": [
    "customer['a']['car'][1]"
   ]
  },
  {
   "cell_type": "code",
   "execution_count": 99,
   "metadata": {},
   "outputs": [
    {
     "data": {
      "text/plain": [
       "('a', 'i', 'e', 'u', 'o')"
      ]
     },
     "execution_count": 99,
     "metadata": {},
     "output_type": "execute_result"
    }
   ],
   "source": [
    "#####sets and tuples\n",
    "####tuples\n",
    "vow_tup = ( 'a', 'i', 'e', 'u', 'o')\n",
    "vow_tup"
   ]
  },
  {
   "cell_type": "code",
   "execution_count": 100,
   "metadata": {},
   "outputs": [
    {
     "data": {
      "text/plain": [
       "'e'"
      ]
     },
     "execution_count": 100,
     "metadata": {},
     "output_type": "execute_result"
    }
   ],
   "source": [
    "vow_tup[2]"
   ]
  },
  {
   "cell_type": "code",
   "execution_count": 101,
   "metadata": {},
   "outputs": [
    {
     "ename": "TypeError",
     "evalue": "'tuple' object does not support item assignment",
     "output_type": "error",
     "traceback": [
      "\u001b[0;31m---------------------------------------------------------------------------\u001b[0m",
      "\u001b[0;31mTypeError\u001b[0m                                 Traceback (most recent call last)",
      "\u001b[0;32m<ipython-input-101-5039f58dfe73>\u001b[0m in \u001b[0;36m<module>\u001b[0;34m\u001b[0m\n\u001b[0;32m----> 1\u001b[0;31m \u001b[0mvow_tup\u001b[0m\u001b[0;34m[\u001b[0m\u001b[0;36m2\u001b[0m\u001b[0;34m]\u001b[0m \u001b[0;34m=\u001b[0m \u001b[0;34m'x'\u001b[0m\u001b[0;34m\u001b[0m\u001b[0;34m\u001b[0m\u001b[0m\n\u001b[0m",
      "\u001b[0;31mTypeError\u001b[0m: 'tuple' object does not support item assignment"
     ]
    }
   ],
   "source": [
    "vow_tup[2] = 'x'"
   ]
  },
  {
   "cell_type": "code",
   "execution_count": 106,
   "metadata": {},
   "outputs": [
    {
     "data": {
      "text/plain": [
       "{'a', 'e', 'i', 'o', 'u'}"
      ]
     },
     "execution_count": 106,
     "metadata": {},
     "output_type": "execute_result"
    }
   ],
   "source": [
    "####sets - cannot have duplicate values, does not support indexing\n",
    "b = set('aeioou')\n",
    "b"
   ]
  },
  {
   "cell_type": "code",
   "execution_count": 107,
   "metadata": {},
   "outputs": [
    {
     "data": {
      "text/plain": [
       "{'a', 'e', 'i', 'o', 'u', 'x'}"
      ]
     },
     "execution_count": 107,
     "metadata": {},
     "output_type": "execute_result"
    }
   ],
   "source": [
    "b.add('x')\n",
    "b"
   ]
  },
  {
   "cell_type": "code",
   "execution_count": 89,
   "metadata": {},
   "outputs": [
    {
     "name": "stdout",
     "output_type": "stream",
     "text": [
      "enter a inputheadphones\n"
     ]
    }
   ],
   "source": [
    "sentence = input('enter a input')"
   ]
  },
  {
   "cell_type": "code",
   "execution_count": null,
   "metadata": {},
   "outputs": [],
   "source": []
  },
  {
   "cell_type": "code",
   "execution_count": 90,
   "metadata": {},
   "outputs": [
    {
     "data": {
      "text/plain": [
       "{'a', 'd', 'e', 'h', 'i', 'n', 'o', 'p', 's', 'u'}"
      ]
     },
     "execution_count": 90,
     "metadata": {},
     "output_type": "execute_result"
    }
   ],
   "source": [
    "union = b.union(set(sentence))\n",
    "union"
   ]
  },
  {
   "cell_type": "code",
   "execution_count": 91,
   "metadata": {},
   "outputs": [
    {
     "data": {
      "text/plain": [
       "{'i', 'u'}"
      ]
     },
     "execution_count": 91,
     "metadata": {},
     "output_type": "execute_result"
    }
   ],
   "source": [
    "diff = b.difference(set(sentence))\n",
    "diff"
   ]
  },
  {
   "cell_type": "code",
   "execution_count": 92,
   "metadata": {},
   "outputs": [
    {
     "data": {
      "text/plain": [
       "{'a', 'e', 'o'}"
      ]
     },
     "execution_count": 92,
     "metadata": {},
     "output_type": "execute_result"
    }
   ],
   "source": [
    "inter = b.intersection(set(sentence))\n",
    "inter"
   ]
  },
  {
   "cell_type": "code",
   "execution_count": null,
   "metadata": {},
   "outputs": [],
   "source": [
    "####################functions##########################"
   ]
  },
  {
   "cell_type": "code",
   "execution_count": 115,
   "metadata": {},
   "outputs": [],
   "source": [
    "def vowels(sentence):\n",
    "    vowels = set('aeiou')\n",
    "    vowels_count = {}\n",
    "    for i in list(sentence):\n",
    "        if i in vowels:\n",
    "            vowels_count.setdefault(i,0)\n",
    "            vowels_count[i] += 1\n",
    "    return vowels_count       "
   ]
  },
  {
   "cell_type": "code",
   "execution_count": 116,
   "metadata": {},
   "outputs": [
    {
     "data": {
      "text/plain": [
       "{'e': 1, 'o': 2}"
      ]
     },
     "execution_count": 116,
     "metadata": {},
     "output_type": "execute_result"
    }
   ],
   "source": [
    "vowels('hello world')"
   ]
  },
  {
   "cell_type": "code",
   "execution_count": 119,
   "metadata": {},
   "outputs": [],
   "source": [
    "####program 2\n",
    "def common_letters(sentence:str , letters:str) ->dict:\n",
    "    return set(sentence).intersection(set(letters))"
   ]
  },
  {
   "cell_type": "code",
   "execution_count": 122,
   "metadata": {},
   "outputs": [
    {
     "data": {
      "text/plain": [
       "{'a', 'm', 'n', 'o'}"
      ]
     },
     "execution_count": 122,
     "metadata": {},
     "output_type": "execute_result"
    }
   ],
   "source": [
    "common_letters('poonam','onam')"
   ]
  },
  {
   "cell_type": "code",
   "execution_count": 5,
   "metadata": {},
   "outputs": [
    {
     "name": "stdout",
     "output_type": "stream",
     "text": [
      "hi\n",
      "hi\n",
      "None\n",
      "<function fun at 0x7f0564521620>\n"
     ]
    }
   ],
   "source": [
    "\n",
    "##functions\n",
    "\n",
    "def fun():\n",
    "    print(\"hi\")\n",
    "fun()\n",
    "print(fun())    #since fun does not return a value, python evaluates the value and print none\n",
    "print(fun)   ###value of fun definiton. fun are obj"
   ]
  },
  {
   "cell_type": "code",
   "execution_count": 6,
   "metadata": {},
   "outputs": [
    {
     "name": "stdout",
     "output_type": "stream",
     "text": [
      "10   20\n",
      "20   5\n",
      "None\n",
      "8\n",
      "2\n",
      "8\n",
      "29\n"
     ]
    }
   ],
   "source": [
    "def a():\n",
    "    print(\"a\")\n",
    "def b(arg1, arg2):\n",
    "    print(arg1, \" \", arg2)\n",
    "def cube(x):\n",
    "    return x*x*x\n",
    "def pow(num, x=1):\n",
    "    result=1\n",
    "    for i in range(x):\n",
    "        result = result * num\n",
    "    return result    \n",
    "def mul(*args):\n",
    "    res=0\n",
    "    for x in args:\n",
    "        res=res+x\n",
    "    return res\n",
    "\n",
    "b(10,20)\n",
    "print(b(20,5))\n",
    "print(cube(2))\n",
    "print(pow(2))\n",
    "print(pow(2,3))\n",
    "print(mul(10,10,2,3,4))"
   ]
  },
  {
   "cell_type": "code",
   "execution_count": null,
   "metadata": {},
   "outputs": [],
   "source": []
  },
  {
   "cell_type": "code",
   "execution_count": null,
   "metadata": {},
   "outputs": [],
   "source": []
  }
 ],
 "metadata": {
  "kernelspec": {
   "display_name": "test-env",
   "language": "python",
   "name": "test-env"
  },
  "language_info": {
   "codemirror_mode": {
    "name": "ipython",
    "version": 3
   },
   "file_extension": ".py",
   "mimetype": "text/x-python",
   "name": "python",
   "nbconvert_exporter": "python",
   "pygments_lexer": "ipython3",
   "version": "3.6.9"
  }
 },
 "nbformat": 4,
 "nbformat_minor": 2
}
